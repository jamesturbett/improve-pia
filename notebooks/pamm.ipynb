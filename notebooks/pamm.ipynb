{
 "cells": [
  {
   "cell_type": "code",
   "execution_count": 1,
   "id": "0c692305",
   "metadata": {},
   "outputs": [],
   "source": [
    "import sys\n",
    "sys.path.append(\"..\")   # go up one level to repo root"
   ]
  },
  {
   "cell_type": "code",
   "execution_count": 2,
   "id": "fc5d85cc",
   "metadata": {},
   "outputs": [],
   "source": [
    "from python.pamm import calc_pamm_bounds"
   ]
  },
  {
   "cell_type": "code",
   "execution_count": null,
   "id": "88031c23",
   "metadata": {},
   "outputs": [
    {
     "data": {
      "text/plain": [
       "(335, 343)"
      ]
     },
     "execution_count": 6,
     "metadata": {},
     "output_type": "execute_result"
    }
   ],
   "source": [
    "# Example usage: UKFP 2025, London\n",
    "calc_pamm_bounds(\n",
    "    progs = 1238,\n",
    "    prefs_before = 2200,\n",
    "    pub_ratio_after = 2.07\n",
    ")"
   ]
  }
 ],
 "metadata": {
  "kernelspec": {
   "display_name": ".venv (3.13.7)",
   "language": "python",
   "name": "python3"
  },
  "language_info": {
   "codemirror_mode": {
    "name": "ipython",
    "version": 3
   },
   "file_extension": ".py",
   "mimetype": "text/x-python",
   "name": "python",
   "nbconvert_exporter": "python",
   "pygments_lexer": "ipython3",
   "version": "3.13.7"
  }
 },
 "nbformat": 4,
 "nbformat_minor": 5
}
