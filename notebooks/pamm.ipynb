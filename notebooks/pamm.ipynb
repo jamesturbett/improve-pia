{
 "cells": [
  {
   "cell_type": "code",
   "execution_count": 7,
   "id": "0c692305",
   "metadata": {},
   "outputs": [],
   "source": [
    "import sys\n",
    "sys.path.append(\"..\")   # go up one level to repo root\n",
    "from python.pamm import calc_pamm_bounds"
   ]
  },
  {
   "cell_type": "code",
   "execution_count": 8,
   "id": "88031c23",
   "metadata": {},
   "outputs": [
    {
     "name": "stdout",
     "output_type": "stream",
     "text": [
      "Bounds on number of applicants pre-allocated/manually matched to London (FP2025): (335, 343)\n"
     ]
    }
   ],
   "source": [
    "# Example usage: FP2025, London\n",
    "pamm_bounds_ldn_2025 = calc_pamm_bounds(\n",
    "    progs = 1238,\n",
    "    prefs_before = 2200,\n",
    "    pub_ratio_after = 2.07\n",
    ")\n",
    "print(f\"Bounds on number of applicants pre-allocated/manually matched to London (FP2025): {pamm_bounds_ldn_2025}\")"
   ]
  }
 ],
 "metadata": {
  "language_info": {
   "name": "python"
  }
 },
 "nbformat": 4,
 "nbformat_minor": 5
}
